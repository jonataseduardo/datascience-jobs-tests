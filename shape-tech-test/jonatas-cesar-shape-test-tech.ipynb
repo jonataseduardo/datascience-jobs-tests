{
  "cells": [
    {
      "cell_type": "markdown",
      "metadata": {},
      "source": [
        "# Shape Tech-Test\n",
        "\n",
        "Author: Jonatas Cesar "
      ]
    },
    {
      "cell_type": "code",
      "metadata": {},
      "source": [
        "import matplotlib.pyplot as plt\n",
        "import pandas\n",
        "import pandas as pd\n",
        "import shap\n",
        "from catboost import CatBoostClassifier, Pool\n",
        "from pandas_profiling import ProfileReport\n",
        "from sklearn.metrics import RocCurveDisplay, classification_report\n",
        "from sklearn.model_selection import train_test_split\n",
        "from sklearn.utils.class_weight import compute_sample_weight"
      ],
      "outputs": [],
      "execution_count": null
    },
    {
      "cell_type": "code",
      "metadata": {},
      "source": [
        "#%matplotlib inline"
      ],
      "outputs": [],
      "execution_count": null
    },
    {
      "cell_type": "code",
      "metadata": {},
      "source": [
        "df = pd.read_excel(\"O&G Equipment Data.xlsx\", index_col=\"Cycle\")"
      ],
      "outputs": [],
      "execution_count": null
    },
    {
      "cell_type": "code",
      "metadata": {},
      "source": [
        "df.describe().T"
      ],
      "outputs": [],
      "execution_count": null
    },
    {
      "cell_type": "code",
      "metadata": {},
      "source": [
        "# check imbalanced data\n",
        "df.Fail.mean()"
      ],
      "outputs": [],
      "execution_count": null
    },
    {
      "cell_type": "code",
      "metadata": {},
      "source": [
        "profile = ProfileReport(df, title=\"Shape Data - Profiling Report\", minimal=True)"
      ],
      "outputs": [],
      "execution_count": null
    },
    {
      "cell_type": "code",
      "metadata": {},
      "source": [
        "profile.to_widgets()"
      ],
      "outputs": [],
      "execution_count": null
    },
    {
      "cell_type": "markdown",
      "metadata": {},
      "source": [
        "## Split Data"
      ]
    },
    {
      "cell_type": "code",
      "metadata": {},
      "source": [
        "X, y = df.iloc[:, :-1], df.iloc[:, -1]"
      ],
      "outputs": [],
      "execution_count": null
    },
    {
      "cell_type": "code",
      "metadata": {},
      "source": [
        "X_train, X_test, y_train, y_test = train_test_split(\n",
        "    X, y, test_size=0.2, random_state=42\n",
        ")"
      ],
      "outputs": [],
      "execution_count": null
    },
    {
      "cell_type": "markdown",
      "metadata": {},
      "source": [
        "## Model Fit "
      ]
    },
    {
      "cell_type": "code",
      "metadata": {},
      "source": [
        "model = CatBoostClassifier()"
      ],
      "outputs": [],
      "execution_count": null
    },
    {
      "cell_type": "code",
      "metadata": {},
      "source": [
        "cat_features = [\"Preset_1\", \"Preset_2\"]"
      ],
      "outputs": [],
      "execution_count": null
    },
    {
      "cell_type": "code",
      "metadata": {},
      "source": [
        "model.fit(\n",
        "    X_train,\n",
        "    y_train,\n",
        "    cat_features=cat_features,\n",
        "    verbose=False,\n",
        ")"
      ],
      "outputs": [],
      "execution_count": null
    },
    {
      "cell_type": "markdown",
      "metadata": {},
      "source": [
        "## Classification perfomance"
      ]
    },
    {
      "cell_type": "code",
      "metadata": {},
      "source": [
        "y_pred_prob = model.predict(X_test, prediction_type=\"Probability\")[:, 1]"
      ],
      "outputs": [],
      "execution_count": null
    },
    {
      "cell_type": "code",
      "metadata": {},
      "source": [
        "RocCurveDisplay.from_predictions(y_test.values, y_pred_prob)\n",
        "plt.show()"
      ],
      "outputs": [],
      "execution_count": null
    },
    {
      "cell_type": "code",
      "metadata": {},
      "source": [
        "y_pred = y_pred_prob > 0.5"
      ],
      "outputs": [],
      "execution_count": null
    },
    {
      "cell_type": "code",
      "metadata": {},
      "source": [
        "print(classification_report(y_test.values, y_pred))"
      ],
      "outputs": [],
      "execution_count": null
    },
    {
      "cell_type": "markdown",
      "metadata": {},
      "source": [
        "## Feature importance "
      ]
    },
    {
      "cell_type": "code",
      "metadata": {},
      "source": [
        "explainer = shap.TreeExplainer(model)\n",
        "shap_values = explainer.shap_values(Pool(X_train, y_train, cat_features=cat_features))\n",
        "shap.summary_plot(shap_values, X_train)"
      ],
      "outputs": [],
      "execution_count": null
    },
    {
      "cell_type": "code",
      "metadata": {},
      "source": [],
      "outputs": [],
      "execution_count": null
    }
  ],
  "metadata": {
    "anaconda-cloud": {},
    "kernelspec": {
      "display_name": "Python 3",
      "language": "python",
      "name": "python3"
    },
    "language_info": {
      "codemirror_mode": {
        "name": "ipython",
        "version": 3
      },
      "file_extension": ".py",
      "mimetype": "text/x-python",
      "name": "python",
      "nbconvert_exporter": "python",
      "pygments_lexer": "ipython3",
      "version": "3.6.1"
    }
  },
  "nbformat": 4,
  "nbformat_minor": 4
}