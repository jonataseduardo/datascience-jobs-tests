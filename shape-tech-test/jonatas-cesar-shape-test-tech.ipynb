{
 "cells": [
  {
   "cell_type": "markdown",
   "metadata": {},
   "source": [
    "# Shape Tech-Test\n",
    "\n",
    "Author: Jonatas Cesar "
   ]
  },
  {
   "cell_type": "code",
   "execution_count": 1,
   "metadata": {},
   "outputs": [],
   "source": [
    "import matplotlib.pyplot as plt\n",
    "import pandas\n",
    "import pandas as pd\n",
    "import shap\n",
    "from catboost import CatBoostClassifier, Pool\n",
    "from pandas_profiling import ProfileReport\n",
    "from sklearn.metrics import RocCurveDisplay, classification_report\n",
    "from sklearn.model_selection import train_test_split\n",
    "from sklearn.utils.class_weight import compute_sample_weight"
   ]
  },
  {
   "cell_type": "code",
   "execution_count": 2,
   "metadata": {},
   "outputs": [],
   "source": [
    "%matplotlib inline"
   ]
  },
  {
   "cell_type": "code",
   "execution_count": 3,
   "metadata": {},
   "outputs": [],
   "source": [
    "df = pd.read_excel(\"O&G Equipment Data.xlsx\", index_col=\"Cycle\")"
   ]
  },
  {
   "cell_type": "code",
   "execution_count": 4,
   "metadata": {},
   "outputs": [
    {
     "data": {
      "text/html": [
       "<div>\n",
       "<style scoped>\n",
       "    .dataframe tbody tr th:only-of-type {\n",
       "        vertical-align: middle;\n",
       "    }\n",
       "\n",
       "    .dataframe tbody tr th {\n",
       "        vertical-align: top;\n",
       "    }\n",
       "\n",
       "    .dataframe thead th {\n",
       "        text-align: right;\n",
       "    }\n",
       "</style>\n",
       "<table border=\"1\" class=\"dataframe\">\n",
       "  <thead>\n",
       "    <tr style=\"text-align: right;\">\n",
       "      <th></th>\n",
       "      <th>count</th>\n",
       "      <th>mean</th>\n",
       "      <th>std</th>\n",
       "      <th>min</th>\n",
       "      <th>25%</th>\n",
       "      <th>50%</th>\n",
       "      <th>75%</th>\n",
       "      <th>max</th>\n",
       "    </tr>\n",
       "  </thead>\n",
       "  <tbody>\n",
       "    <tr>\n",
       "      <th>Preset_1</th>\n",
       "      <td>800.0</td>\n",
       "      <td>1.988750</td>\n",
       "      <td>0.805875</td>\n",
       "      <td>1.000000</td>\n",
       "      <td>1.000000</td>\n",
       "      <td>2.000000</td>\n",
       "      <td>3.000000</td>\n",
       "      <td>3.000000</td>\n",
       "    </tr>\n",
       "    <tr>\n",
       "      <th>Preset_2</th>\n",
       "      <td>800.0</td>\n",
       "      <td>4.551250</td>\n",
       "      <td>2.293239</td>\n",
       "      <td>1.000000</td>\n",
       "      <td>3.000000</td>\n",
       "      <td>5.000000</td>\n",
       "      <td>7.000000</td>\n",
       "      <td>8.000000</td>\n",
       "    </tr>\n",
       "    <tr>\n",
       "      <th>Temperature</th>\n",
       "      <td>800.0</td>\n",
       "      <td>69.263494</td>\n",
       "      <td>25.536252</td>\n",
       "      <td>2.089354</td>\n",
       "      <td>51.040134</td>\n",
       "      <td>65.906716</td>\n",
       "      <td>80.527220</td>\n",
       "      <td>255.607829</td>\n",
       "    </tr>\n",
       "    <tr>\n",
       "      <th>Pressure</th>\n",
       "      <td>800.0</td>\n",
       "      <td>78.997945</td>\n",
       "      <td>32.501834</td>\n",
       "      <td>3.480279</td>\n",
       "      <td>55.508564</td>\n",
       "      <td>75.014848</td>\n",
       "      <td>99.302530</td>\n",
       "      <td>189.995681</td>\n",
       "    </tr>\n",
       "    <tr>\n",
       "      <th>VibrationX</th>\n",
       "      <td>800.0</td>\n",
       "      <td>73.860275</td>\n",
       "      <td>31.229631</td>\n",
       "      <td>3.846343</td>\n",
       "      <td>50.752461</td>\n",
       "      <td>69.394953</td>\n",
       "      <td>90.195059</td>\n",
       "      <td>230.861142</td>\n",
       "    </tr>\n",
       "    <tr>\n",
       "      <th>VibrationY</th>\n",
       "      <td>800.0</td>\n",
       "      <td>72.786878</td>\n",
       "      <td>32.739745</td>\n",
       "      <td>10.057744</td>\n",
       "      <td>48.523982</td>\n",
       "      <td>65.504770</td>\n",
       "      <td>94.075572</td>\n",
       "      <td>193.569947</td>\n",
       "    </tr>\n",
       "    <tr>\n",
       "      <th>VibrationZ</th>\n",
       "      <td>800.0</td>\n",
       "      <td>71.866211</td>\n",
       "      <td>27.844616</td>\n",
       "      <td>18.784169</td>\n",
       "      <td>50.787638</td>\n",
       "      <td>69.319237</td>\n",
       "      <td>88.891205</td>\n",
       "      <td>230.951134</td>\n",
       "    </tr>\n",
       "    <tr>\n",
       "      <th>Frequency</th>\n",
       "      <td>800.0</td>\n",
       "      <td>68.223449</td>\n",
       "      <td>29.138702</td>\n",
       "      <td>4.380101</td>\n",
       "      <td>45.861762</td>\n",
       "      <td>65.664252</td>\n",
       "      <td>90.097457</td>\n",
       "      <td>178.090303</td>\n",
       "    </tr>\n",
       "  </tbody>\n",
       "</table>\n",
       "</div>"
      ],
      "text/plain": [
       "             count       mean        std        min        25%        50%  \\\n",
       "Preset_1     800.0   1.988750   0.805875   1.000000   1.000000   2.000000   \n",
       "Preset_2     800.0   4.551250   2.293239   1.000000   3.000000   5.000000   \n",
       "Temperature  800.0  69.263494  25.536252   2.089354  51.040134  65.906716   \n",
       "Pressure     800.0  78.997945  32.501834   3.480279  55.508564  75.014848   \n",
       "VibrationX   800.0  73.860275  31.229631   3.846343  50.752461  69.394953   \n",
       "VibrationY   800.0  72.786878  32.739745  10.057744  48.523982  65.504770   \n",
       "VibrationZ   800.0  71.866211  27.844616  18.784169  50.787638  69.319237   \n",
       "Frequency    800.0  68.223449  29.138702   4.380101  45.861762  65.664252   \n",
       "\n",
       "                   75%         max  \n",
       "Preset_1      3.000000    3.000000  \n",
       "Preset_2      7.000000    8.000000  \n",
       "Temperature  80.527220  255.607829  \n",
       "Pressure     99.302530  189.995681  \n",
       "VibrationX   90.195059  230.861142  \n",
       "VibrationY   94.075572  193.569947  \n",
       "VibrationZ   88.891205  230.951134  \n",
       "Frequency    90.097457  178.090303  "
      ]
     },
     "execution_count": 4,
     "metadata": {},
     "output_type": "execute_result"
    }
   ],
   "source": [
    "df.describe().T"
   ]
  },
  {
   "cell_type": "code",
   "execution_count": 5,
   "metadata": {},
   "outputs": [
    {
     "data": {
      "text/plain": [
       "0.0825"
      ]
     },
     "execution_count": 5,
     "metadata": {},
     "output_type": "execute_result"
    }
   ],
   "source": [
    "# check imbalanced data\n",
    "df.Fail.mean()"
   ]
  },
  {
   "cell_type": "code",
   "execution_count": 6,
   "metadata": {},
   "outputs": [],
   "source": [
    "profile = ProfileReport(df, title=\"Shape Data - Profiling Report\", minimal=True)"
   ]
  },
  {
   "cell_type": "code",
   "execution_count": 7,
   "metadata": {},
   "outputs": [
    {
     "data": {
      "application/vnd.jupyter.widget-view+json": {
       "model_id": "66fcfa4d47c640638089dc464b78c863",
       "version_major": 2,
       "version_minor": 0
      },
      "text/plain": [
       "Summarize dataset:   0%|          | 0/5 [00:00<?, ?it/s]"
      ]
     },
     "metadata": {},
     "output_type": "display_data"
    },
    {
     "data": {
      "application/vnd.jupyter.widget-view+json": {
       "model_id": "0d131f92974f4178bdd4a3050a399133",
       "version_major": 2,
       "version_minor": 0
      },
      "text/plain": [
       "Generate report structure:   0%|          | 0/1 [00:00<?, ?it/s]"
      ]
     },
     "metadata": {},
     "output_type": "display_data"
    },
    {
     "data": {
      "application/vnd.jupyter.widget-view+json": {
       "model_id": "",
       "version_major": 2,
       "version_minor": 0
      },
      "text/plain": [
       "Render widgets:   0%|          | 0/1 [00:00<?, ?it/s]"
      ]
     },
     "metadata": {},
     "output_type": "display_data"
    },
    {
     "data": {
      "application/vnd.jupyter.widget-view+json": {
       "model_id": "af9ee88a4ad84c70a903a7b1e2c5887a",
       "version_major": 2,
       "version_minor": 0
      },
      "text/plain": [
       "VBox(children=(Tab(children=(Tab(children=(GridBox(children=(VBox(children=(GridspecLayout(children=(HTML(valu…"
      ]
     },
     "metadata": {},
     "output_type": "display_data"
    }
   ],
   "source": [
    "profile.to_widgets()"
   ]
  },
  {
   "cell_type": "markdown",
   "metadata": {},
   "source": [
    "## Split Data"
   ]
  },
  {
   "cell_type": "code",
   "execution_count": 8,
   "metadata": {},
   "outputs": [],
   "source": [
    "X, y = df.iloc[:, :-1], df.iloc[:, -1]"
   ]
  },
  {
   "cell_type": "code",
   "execution_count": 9,
   "metadata": {},
   "outputs": [],
   "source": [
    "X_train, X_test, y_train, y_test = train_test_split(\n",
    "    X, y, test_size=0.2, random_state=42\n",
    ")"
   ]
  },
  {
   "cell_type": "markdown",
   "metadata": {},
   "source": [
    "## Model Fit "
   ]
  },
  {
   "cell_type": "code",
   "execution_count": 10,
   "metadata": {},
   "outputs": [],
   "source": [
    "model = CatBoostClassifier()"
   ]
  },
  {
   "cell_type": "code",
   "execution_count": 11,
   "metadata": {},
   "outputs": [],
   "source": [
    "cat_features = [\"Preset_1\", \"Preset_2\"]"
   ]
  },
  {
   "cell_type": "code",
   "execution_count": 12,
   "metadata": {},
   "outputs": [
    {
     "data": {
      "text/plain": [
       "<catboost.core.CatBoostClassifier at 0x7fa8042910d0>"
      ]
     },
     "execution_count": 12,
     "metadata": {},
     "output_type": "execute_result"
    }
   ],
   "source": [
    "model.fit(\n",
    "    X_train,\n",
    "    y_train,\n",
    "    cat_features=cat_features,\n",
    "    verbose=False,\n",
    ")"
   ]
  },
  {
   "cell_type": "markdown",
   "metadata": {},
   "source": [
    "## Classification perfomance"
   ]
  },
  {
   "cell_type": "code",
   "execution_count": 13,
   "metadata": {},
   "outputs": [],
   "source": [
    "y_pred_prob = model.predict(X_test, prediction_type=\"Probability\")[:, 1]"
   ]
  },
  {
   "cell_type": "code",
   "execution_count": 14,
   "metadata": {},
   "outputs": [
    {
     "data": {
      "image/png": "[encoded data removed]",
      "text/plain": [
       "<Figure size 432x288 with 1 Axes>"
      ]
     },
     "metadata": {
      "needs_background": "light"
     },
     "output_type": "display_data"
    }
   ],
   "source": [
    "RocCurveDisplay.from_predictions(y_test.values, y_pred_prob)\n",
    "plt.show()"
   ]
  },
  {
   "cell_type": "code",
   "execution_count": 15,
   "metadata": {},
   "outputs": [],
   "source": [
    "y_pred = y_pred_prob > 0.5"
   ]
  },
  {
   "cell_type": "code",
   "execution_count": 16,
   "metadata": {},
   "outputs": [
    {
     "name": "stdout",
     "output_type": "stream",
     "text": [
      "              precision    recall  f1-score   support\n",
      "\n",
      "       False       0.98      0.97      0.98       150\n",
      "        True       0.64      0.70      0.67        10\n",
      "\n",
      "    accuracy                           0.96       160\n",
      "   macro avg       0.81      0.84      0.82       160\n",
      "weighted avg       0.96      0.96      0.96       160\n",
      "\n"
     ]
    }
   ],
   "source": [
    "print(classification_report(y_test.values, y_pred))"
   ]
  },
  {
   "cell_type": "markdown",
   "metadata": {},
   "source": [
    "## Feature importance "
   ]
  },
  {
   "cell_type": "code",
   "execution_count": 17,
   "metadata": {
    "scrolled": true
   },
   "outputs": [
    {
     "data": {
      "image/png": "[encoded data removed]",
      "text/plain": [
       "<Figure size 576x338.4 with 2 Axes>"
      ]
     },
     "metadata": {
      "needs_background": "light"
     },
     "output_type": "display_data"
    }
   ],
   "source": [
    "explainer = shap.TreeExplainer(model)\n",
    "shap_values = explainer.shap_values(Pool(X_train, y_train, cat_features=cat_features))\n",
    "shap.summary_plot(shap_values, X_train)"
   ]
  },
  {
   "cell_type": "code",
   "execution_count": null,
   "metadata": {},
   "outputs": [],
   "source": []
  }
 ],
 "metadata": {
  "anaconda-cloud": {},
  "kernelspec": {
   "display_name": "Python 3 (ipykernel)",
   "language": "python",
   "name": "python3"
  },
  "language_info": {
   "codemirror_mode": {
    "name": "ipython",
    "version": 3
   },
   "file_extension": ".py",
   "mimetype": "text/x-python",
   "name": "python",
   "nbconvert_exporter": "python",
   "pygments_lexer": "ipython3",
   "version": "3.8.12"
  }
 },
 "nbformat": 4,
 "nbformat_minor": 4
}
